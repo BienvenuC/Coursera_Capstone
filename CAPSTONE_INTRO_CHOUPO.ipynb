{
 "cells": [
  {
   "cell_type": "markdown",
   "metadata": {},
   "source": [
    "# ACCIDENTS / INCIDENTS IN AVIATION"
   ]
  },
  {
   "cell_type": "markdown",
   "metadata": {},
   "source": [
    "## INTRODUCTION"
   ]
  },
  {
   "cell_type": "markdown",
   "metadata": {},
   "source": [
    "Air transport is in a substancial growth nowadays especially in developping countries (Africa). \n",
    "People need to do a lot of things in a small amount of time. The age of speed indeed !  \n",
    "Plane crash is scarce, but once it happens, it can be very serious. Over the years, there have been some serious cases of aircraft incidents / accidents  that resulted in loss of many lives.\n",
    "Those accidents happened in various locations around the globe and involved many airlines companies and different types of aircrafts.  \n",
    "Having a bunch of data today, is it possible for us to look through those data to see for example:\n",
    "- Which is the company most involved in air accident: this information could help passengers make decision when choosing an airline company.\n",
    "\n",
    "- Which phases of flight are the most critical? (This information can serve as a training purpose for people involved in air navigation security like me? Yes I'm working in the field of aeronautics and a met instructor.\n",
    "\n",
    "In this notebook, we will explore the data of accidents from 1923 to 2019, and see which locations were most involved in accidents and cluster their neighborhoods.\n"
   ]
  },
  {
   "cell_type": "code",
   "execution_count": null,
   "metadata": {},
   "outputs": [],
   "source": []
  }
 ],
 "metadata": {
  "kernelspec": {
   "display_name": "Python 3",
   "language": "python",
   "name": "python3"
  },
  "language_info": {
   "codemirror_mode": {
    "name": "ipython",
    "version": 3
   },
   "file_extension": ".py",
   "mimetype": "text/x-python",
   "name": "python",
   "nbconvert_exporter": "python",
   "pygments_lexer": "ipython3",
   "version": "3.6.8"
  }
 },
 "nbformat": 4,
 "nbformat_minor": 2
}
