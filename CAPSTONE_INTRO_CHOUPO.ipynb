{
 "cells": [
  {
   "cell_type": "markdown",
   "metadata": {},
   "source": [
    "# **EXPLORING THE TOP 5 DEADLIEST LOCATIONS OF  ACCIDENTS / INCIDENTS IN AVIATION SINCE 1923**"
   ]
  },
  {
   "cell_type": "markdown",
   "metadata": {},
   "source": [
    "**Bienvenu CHOUPO  \n",
    "June 18, 2019**"
   ]
  },
  {
   "cell_type": "markdown",
   "metadata": {},
   "source": [
    "## 1. **INTRODUCTION**"
   ]
  },
  {
   "cell_type": "markdown",
   "metadata": {},
   "source": [
    "Air transport is in a substancial growth nowadays especially in developping countries (Africa). \n",
    "People need to do a lot of things in a small amount of time. The age of speed indeed !  \n",
    "Plane crash is scarce, but once it happens, it can be very serious. Over the years, there have been some serious cases of aircraft incidents / accidents  that resulted in loss of many lives.\n",
    "Those accidents happened in various locations around the globe and involved many airlines companies and different types of aircrafts.  \n",
    "More often, to keep the souvenir of the victims, memorials for crash victims are built. Those memorial attract many people, especially tourists. For a place to attract tourists, there needs to be some common facilities: hotel, restaurant, museum, historical site...\n",
    "\n",
    "**Let's say a tourist would like to visit one of the top five locations where air crash killed the most people, but don't know which one to choose and ask for suggestions.** \n",
    "\n",
    "In this notebook, we will explore the data of accidents from 1923 to 2019. Analysing the data, we will retrieve the top 5 locations where most people were killed. We will then use the Foursquare API to explore those locations, cluster the neighborhoods of those locations and make suggestions to tourist. \n"
   ]
  },
  {
   "cell_type": "code",
   "execution_count": null,
   "metadata": {
    "collapsed": true
   },
   "outputs": [],
   "source": []
  }
 ],
 "metadata": {
  "kernelspec": {
   "display_name": "Python 3",
   "language": "python",
   "name": "python3"
  },
  "language_info": {
   "codemirror_mode": {
    "name": "ipython",
    "version": 3
   },
   "file_extension": ".py",
   "mimetype": "text/x-python",
   "name": "python",
   "nbconvert_exporter": "python",
   "pygments_lexer": "ipython3",
   "version": "3.5.2"
  },
  "widgets": {
   "state": {},
   "version": "1.1.2"
  }
 },
 "nbformat": 4,
 "nbformat_minor": 2
}
