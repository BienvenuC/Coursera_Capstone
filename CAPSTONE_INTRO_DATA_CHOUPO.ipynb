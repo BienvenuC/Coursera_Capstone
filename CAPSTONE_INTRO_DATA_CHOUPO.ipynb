{
 "cells": [
  {
   "cell_type": "markdown",
   "metadata": {},
   "source": [
    "# **ACCIDENTS / INCIDENTS IN AVIATION SINCE 1923**"
   ]
  },
  {
   "cell_type": "markdown",
   "metadata": {},
   "source": [
    "**Bienvenu CHOUPO  \n",
    "June 18, 2019**"
   ]
  },
  {
   "cell_type": "markdown",
   "metadata": {},
   "source": [
    "## 1. **INTRODUCTION**"
   ]
  },
  {
   "cell_type": "markdown",
   "metadata": {},
   "source": [
    "Air transport is in a substancial growth nowadays especially in developping countries (Africa). \n",
    "People need to do a lot of things in a small amount of time. The age of speed indeed !  \n",
    "Plane crash is scarce, but once it happens, it can be very serious. Over the years, there have been some serious cases of aircraft incidents / accidents  that resulted in loss of many lives.\n",
    "Those accidents happened in various locations around the globe and involved many airlines companies and different types of aircrafts.  \n",
    "Having a bunch of data today, is it possible for us to look through those data to see for example:\n",
    "- Which is the company most involved in air accident: this information could help passengers make decision when choosing an airline company.\n",
    "\n",
    "- Which phases of flight are the most critical? (This information can serve as a training purpose for people involved in air navigation security like me? Yes I'm working in the field of aeronautics and a met instructor.\n",
    "\n",
    "In this notebook, we will explore the data of accidents from 1923 to 2019, and see which locations were most involved in accidents and cluster their neighborhoods.\n"
   ]
  },
  {
   "cell_type": "markdown",
   "metadata": {},
   "source": [
    "## 2. **DATA**"
   ]
  },
  {
   "cell_type": "markdown",
   "metadata": {},
   "source": [
    "The data have been extracted from the wiki page:\n",
    "https://en.wikipedia.org/wiki/List_of_aircraft_accidents_and_incidents_resulting_in_at_least_50_fatalities using the BeautifulSoup package. The data cover a period from 1923-12-21 to 2019-03-10.  \n",
    "**Inclusion criteria**  \n",
    "Criteria for inclusion require at least 50 fatalities in a single occurrence involving commercial passenger and cargo flights, military passenger and cargo flights, or general aviation flights that have been involved in a ground or mid-air collision with either a commercial or military passenger or cargo flight.  \n",
    "\n",
    "On the website page, only the names of locations are given. In order to get information on the geographical coordinates of various locations, I will use the geocoder package.  It will not be easy due to the fact that many locations’ names are not written so as to get the geocoder retrieve their coordinates. So I need to refine the names.   \n",
    "After having all the information, I will the data in a csv file (Air_Accident.csv)\n",
    "\n",
    "Foursquare location will be used for clustering.\n"
   ]
  },
  {
   "cell_type": "markdown",
   "metadata": {},
   "source": [
    "Let's first import all libraries"
   ]
  },
  {
   "cell_type": "code",
   "execution_count": 3,
   "metadata": {
    "collapsed": false
   },
   "outputs": [
    {
     "name": "stdout",
     "output_type": "stream",
     "text": [
      "Libraries imported.\n"
     ]
    }
   ],
   "source": [
    "import numpy as np # library to handle data in a vectorized manner\n",
    "\n",
    "import pandas as pd # library for data analsysis\n",
    "pd.set_option('display.max_columns', None)\n",
    "pd.set_option('display.max_rows', None)\n",
    "\n",
    "import json # library to handle JSON files\n",
    "\n",
    "#!conda install -c conda-forge geopy --yes # uncomment this line if you haven't completed the Foursquare API lab\n",
    "from geopy.geocoders import Nominatim # convert an address into latitude and longitude values\n",
    "\n",
    "\n",
    "import requests # library to handle requests\n",
    "from pandas.io.json import json_normalize # tranform JSON file into a pandas dataframe\n",
    "\n",
    "# For scrapping tables from the web\n",
    "from bs4 import BeautifulSoup\n",
    "import codecs\n",
    "\n",
    "# Matplotlib and associated plotting modules\n",
    "import matplotlib.cm as cm\n",
    "import matplotlib.colors as colors\n",
    "\n",
    "# import k-means from clustering stage\n",
    "from sklearn.cluster import KMeans\n",
    "\n",
    "#!conda install -c conda-forge folium=0.5.0 --yes # uncomment this line if you haven't completed the Foursquare API lab\n",
    "import folium # map rendering library\n",
    "\n",
    "print('Libraries imported.')"
   ]
  },
  {
   "cell_type": "markdown",
   "metadata": {},
   "source": [
    "Let's ping the website"
   ]
  },
  {
   "cell_type": "code",
   "execution_count": 4,
   "metadata": {},
   "outputs": [],
   "source": [
    "website_url = requests.get('https://en.wikipedia.org/wiki/List_of_aircraft_accidents_and_incidents_resulting_in_at_least_50_fatalities').text"
   ]
  },
  {
   "cell_type": "markdown",
   "metadata": {},
   "source": [
    "Now we Scrape a table from the website using  BeautifulSoup package"
   ]
  },
  {
   "cell_type": "code",
   "execution_count": 5,
   "metadata": {},
   "outputs": [],
   "source": [
    "soup = BeautifulSoup(website_url,'lxml')\n",
    "tables = soup.find_all(\"table\", { \"class\" : \"wikitable\" })"
   ]
  },
  {
   "cell_type": "markdown",
   "metadata": {},
   "source": [
    "How many tables are there on the web page?"
   ]
  },
  {
   "cell_type": "code",
   "execution_count": 6,
   "metadata": {},
   "outputs": [
    {
     "name": "stdout",
     "output_type": "stream",
     "text": [
      "There are  6  tables on the website\n"
     ]
    }
   ],
   "source": [
    "print('There are ',len(tables),' tables on the website')"
   ]
  },
  {
   "cell_type": "markdown",
   "metadata": {},
   "source": [
    "Table number 3 is the one that interests us. the first two are informaive, they are table keys."
   ]
  },
  {
   "cell_type": "markdown",
   "metadata": {},
   "source": [
    "####  2.1. **Extraction of Tables from the website**"
   ]
  },
  {
   "cell_type": "markdown",
   "metadata": {},
   "source": [
    "On the website we have multiple tables, exactly 6:\n",
    "We are interested in the first 3:\n",
    "Table key (deaths, type) which is table[0]\n",
    "Table key (location, phase of flight)  which is table[1]\n",
    "List of aircraft accidents and incidents resulting in 50 or more fatalities which is table[2].\n",
    "table[2] is a little difficult to extract once, so we'll do it in two phases."
   ]
  },
  {
   "cell_type": "code",
   "execution_count": 6,
   "metadata": {},
   "outputs": [],
   "source": [
    "#Write a function to parse the rows and the cells and save them in a 2-D array.\n",
    "def parse(n):\n",
    "    data = []\n",
    "    for row in tables[n].find_all(\"tr\"):\n",
    "        if row and row.find_all('td'):\n",
    "            data_row = []\n",
    "            cells = row.find_all('td')\n",
    "            for cell in cells:\n",
    "                if cell:\n",
    "                    data_row.append(cell.get_text().rstrip())            \n",
    "            data.append(data_row)\n",
    "    return data"
   ]
  },
  {
   "cell_type": "markdown",
   "metadata": {},
   "source": [
    "01. Let's extract the table key (Death, type) and name the dataframe Key_death.   \n",
    "For that, we call the function parse with argument 0"
   ]
  },
  {
   "cell_type": "code",
   "execution_count": 7,
   "metadata": {},
   "outputs": [
    {
     "data": {
      "text/plain": [
       "(13, 3)"
      ]
     },
     "execution_count": 7,
     "metadata": {},
     "output_type": "execute_result"
    }
   ],
   "source": [
    "key_death = pd.DataFrame(parse(0),columns = ['Abbreviation', 'Definition','Total']) \n",
    "key_death.shape"
   ]
  },
  {
   "cell_type": "code",
   "execution_count": 8,
   "metadata": {},
   "outputs": [
    {
     "data": {
      "text/html": [
       "<div>\n",
       "<style scoped>\n",
       "    .dataframe tbody tr th:only-of-type {\n",
       "        vertical-align: middle;\n",
       "    }\n",
       "\n",
       "    .dataframe tbody tr th {\n",
       "        vertical-align: top;\n",
       "    }\n",
       "\n",
       "    .dataframe thead th {\n",
       "        text-align: right;\n",
       "    }\n",
       "</style>\n",
       "<table border=\"1\" class=\"dataframe\">\n",
       "  <thead>\n",
       "    <tr style=\"text-align: right;\">\n",
       "      <th></th>\n",
       "      <th>Abbreviation</th>\n",
       "      <th>Definition</th>\n",
       "      <th>Total</th>\n",
       "    </tr>\n",
       "  </thead>\n",
       "  <tbody>\n",
       "    <tr>\n",
       "      <th>0</th>\n",
       "      <td>Deaths</td>\n",
       "      <td>Tot</td>\n",
       "      <td>Total</td>\n",
       "    </tr>\n",
       "    <tr>\n",
       "      <th>1</th>\n",
       "      <td>C</td>\n",
       "      <td>Crew</td>\n",
       "      <td>None</td>\n",
       "    </tr>\n",
       "    <tr>\n",
       "      <th>2</th>\n",
       "      <td>P</td>\n",
       "      <td>Passenger</td>\n",
       "      <td>None</td>\n",
       "    </tr>\n",
       "    <tr>\n",
       "      <th>3</th>\n",
       "      <td>G</td>\n",
       "      <td>Ground</td>\n",
       "      <td>None</td>\n",
       "    </tr>\n",
       "    <tr>\n",
       "      <th>4</th>\n",
       "      <td>N</td>\n",
       "      <td>Notes</td>\n",
       "      <td>None</td>\n",
       "    </tr>\n",
       "  </tbody>\n",
       "</table>\n",
       "</div>"
      ],
      "text/plain": [
       "  Abbreviation Definition  Total\n",
       "0       Deaths        Tot  Total\n",
       "1            C       Crew   None\n",
       "2            P  Passenger   None\n",
       "3            G     Ground   None\n",
       "4            N      Notes   None"
      ]
     },
     "execution_count": 8,
     "metadata": {},
     "output_type": "execute_result"
    }
   ],
   "source": [
    "key_death.head()"
   ]
  },
  {
   "cell_type": "markdown",
   "metadata": {},
   "source": [
    "Let's rearrange row index 7"
   ]
  },
  {
   "cell_type": "code",
   "execution_count": 9,
   "metadata": {},
   "outputs": [],
   "source": [
    "key_death.iloc[7,:] = [key_death.loc[7,'Definition'], key_death.loc[7,'Total'], 'None']"
   ]
  },
  {
   "cell_type": "markdown",
   "metadata": {},
   "source": [
    "Let's drop the first row (index=0) and the column 'Total' which is useless here"
   ]
  },
  {
   "cell_type": "code",
   "execution_count": 10,
   "metadata": {},
   "outputs": [],
   "source": [
    "#drop index 0\n",
    "key_death = key_death.drop(index=0)\n",
    "#drop column 'Total'\n",
    "key_death = key_death.drop(['Total'],axis=1)"
   ]
  },
  {
   "cell_type": "code",
   "execution_count": 11,
   "metadata": {},
   "outputs": [
    {
     "data": {
      "text/html": [
       "<div>\n",
       "<style scoped>\n",
       "    .dataframe tbody tr th:only-of-type {\n",
       "        vertical-align: middle;\n",
       "    }\n",
       "\n",
       "    .dataframe tbody tr th {\n",
       "        vertical-align: top;\n",
       "    }\n",
       "\n",
       "    .dataframe thead th {\n",
       "        text-align: right;\n",
       "    }\n",
       "</style>\n",
       "<table border=\"1\" class=\"dataframe\">\n",
       "  <thead>\n",
       "    <tr style=\"text-align: right;\">\n",
       "      <th></th>\n",
       "      <th>Abbreviation</th>\n",
       "      <th>Definition</th>\n",
       "    </tr>\n",
       "  </thead>\n",
       "  <tbody>\n",
       "    <tr>\n",
       "      <th>1</th>\n",
       "      <td>C</td>\n",
       "      <td>Crew</td>\n",
       "    </tr>\n",
       "    <tr>\n",
       "      <th>2</th>\n",
       "      <td>P</td>\n",
       "      <td>Passenger</td>\n",
       "    </tr>\n",
       "    <tr>\n",
       "      <th>3</th>\n",
       "      <td>G</td>\n",
       "      <td>Ground</td>\n",
       "    </tr>\n",
       "    <tr>\n",
       "      <th>4</th>\n",
       "      <td>N</td>\n",
       "      <td>Notes</td>\n",
       "    </tr>\n",
       "    <tr>\n",
       "      <th>5</th>\n",
       "      <td>†</td>\n",
       "      <td>No survivors</td>\n",
       "    </tr>\n",
       "    <tr>\n",
       "      <th>6</th>\n",
       "      <td>1*</td>\n",
       "      <td>Sole survivor</td>\n",
       "    </tr>\n",
       "    <tr>\n",
       "      <th>7</th>\n",
       "      <td>COM</td>\n",
       "      <td>Commercial (accident/incident)</td>\n",
       "    </tr>\n",
       "    <tr>\n",
       "      <th>8</th>\n",
       "      <td>MIL</td>\n",
       "      <td>Military (accident/incident)</td>\n",
       "    </tr>\n",
       "    <tr>\n",
       "      <th>9</th>\n",
       "      <td>INB</td>\n",
       "      <td>Bombing</td>\n",
       "    </tr>\n",
       "    <tr>\n",
       "      <th>10</th>\n",
       "      <td>INH</td>\n",
       "      <td>Hijacking</td>\n",
       "    </tr>\n",
       "    <tr>\n",
       "      <th>11</th>\n",
       "      <td>EXG</td>\n",
       "      <td>Attacked using ground-based weapons</td>\n",
       "    </tr>\n",
       "    <tr>\n",
       "      <th>12</th>\n",
       "      <td>EXS</td>\n",
       "      <td>Attacked by other aircraft</td>\n",
       "    </tr>\n",
       "  </tbody>\n",
       "</table>\n",
       "</div>"
      ],
      "text/plain": [
       "   Abbreviation                           Definition\n",
       "1             C                                 Crew\n",
       "2             P                            Passenger\n",
       "3             G                               Ground\n",
       "4             N                                Notes\n",
       "5             †                         No survivors\n",
       "6            1*                        Sole survivor\n",
       "7           COM       Commercial (accident/incident)\n",
       "8           MIL         Military (accident/incident)\n",
       "9           INB                              Bombing\n",
       "10          INH                            Hijacking\n",
       "11          EXG  Attacked using ground-based weapons\n",
       "12          EXS           Attacked by other aircraft"
      ]
     },
     "execution_count": 11,
     "metadata": {},
     "output_type": "execute_result"
    }
   ],
   "source": [
    "key_death"
   ]
  },
  {
   "cell_type": "markdown",
   "metadata": {},
   "source": [
    "02. Now Let's extract the table key  (location, phase of flight) and name the dataframe Key_location.   \n",
    "For that, we call the function parse with argument 1"
   ]
  },
  {
   "cell_type": "code",
   "execution_count": 12,
   "metadata": {},
   "outputs": [
    {
     "data": {
      "text/plain": [
       "(14, 3)"
      ]
     },
     "execution_count": 12,
     "metadata": {},
     "output_type": "execute_result"
    }
   ],
   "source": [
    "key_location = pd.DataFrame(parse(1),columns = ['Abbreviation', 'Definition','Total']) \n",
    "key_location.shape"
   ]
  },
  {
   "cell_type": "code",
   "execution_count": 42,
   "metadata": {},
   "outputs": [
    {
     "data": {
      "text/html": [
       "<div>\n",
       "<style scoped>\n",
       "    .dataframe tbody tr th:only-of-type {\n",
       "        vertical-align: middle;\n",
       "    }\n",
       "\n",
       "    .dataframe tbody tr th {\n",
       "        vertical-align: top;\n",
       "    }\n",
       "\n",
       "    .dataframe thead th {\n",
       "        text-align: right;\n",
       "    }\n",
       "</style>\n",
       "<table border=\"1\" class=\"dataframe\">\n",
       "  <thead>\n",
       "    <tr style=\"text-align: right;\">\n",
       "      <th></th>\n",
       "      <th>Abbreviation</th>\n",
       "      <th>Definition</th>\n",
       "      <th>Total</th>\n",
       "    </tr>\n",
       "  </thead>\n",
       "  <tbody>\n",
       "    <tr>\n",
       "      <th>0</th>\n",
       "      <td>Location</td>\n",
       "      <td>(none)</td>\n",
       "      <td>&lt; 20 km (12.5 mi)</td>\n",
       "    </tr>\n",
       "    <tr>\n",
       "      <th>1</th>\n",
       "      <td>\"off\"</td>\n",
       "      <td>&lt; 20 km (12.5 mi) (water impact)</td>\n",
       "      <td>None</td>\n",
       "    </tr>\n",
       "    <tr>\n",
       "      <th>2</th>\n",
       "      <td>\"near\"</td>\n",
       "      <td>20 km (12.5 mi) to 50 km (31 mi)</td>\n",
       "      <td>None</td>\n",
       "    </tr>\n",
       "    <tr>\n",
       "      <th>3</th>\n",
       "      <td>\"area of\"</td>\n",
       "      <td>&gt; 50 km (31 mi)</td>\n",
       "      <td>None</td>\n",
       "    </tr>\n",
       "    <tr>\n",
       "      <th>4</th>\n",
       "      <td>Phase</td>\n",
       "      <td>STD</td>\n",
       "      <td>Standing</td>\n",
       "    </tr>\n",
       "    <tr>\n",
       "      <th>5</th>\n",
       "      <td>TXI</td>\n",
       "      <td>Taxi</td>\n",
       "      <td>None</td>\n",
       "    </tr>\n",
       "    <tr>\n",
       "      <th>6</th>\n",
       "      <td>TOF</td>\n",
       "      <td>Take off</td>\n",
       "      <td>None</td>\n",
       "    </tr>\n",
       "    <tr>\n",
       "      <th>7</th>\n",
       "      <td>ICL</td>\n",
       "      <td>Initial climb</td>\n",
       "      <td>None</td>\n",
       "    </tr>\n",
       "    <tr>\n",
       "      <th>8</th>\n",
       "      <td>ENR</td>\n",
       "      <td>En route</td>\n",
       "      <td>None</td>\n",
       "    </tr>\n",
       "    <tr>\n",
       "      <th>9</th>\n",
       "      <td>MNV</td>\n",
       "      <td>Maneuvering</td>\n",
       "      <td>None</td>\n",
       "    </tr>\n",
       "    <tr>\n",
       "      <th>10</th>\n",
       "      <td>APR</td>\n",
       "      <td>Approach</td>\n",
       "      <td>None</td>\n",
       "    </tr>\n",
       "    <tr>\n",
       "      <th>11</th>\n",
       "      <td>LDG</td>\n",
       "      <td>Landing</td>\n",
       "      <td>None</td>\n",
       "    </tr>\n",
       "    <tr>\n",
       "      <th>12</th>\n",
       "      <td>UNK</td>\n",
       "      <td>Unknown</td>\n",
       "      <td>None</td>\n",
       "    </tr>\n",
       "    <tr>\n",
       "      <th>13</th>\n",
       "      <td>Airport</td>\n",
       "      <td>***</td>\n",
       "      <td>Active or decommissioned military bases; close...</td>\n",
       "    </tr>\n",
       "  </tbody>\n",
       "</table>\n",
       "</div>"
      ],
      "text/plain": [
       "   Abbreviation                        Definition  \\\n",
       "0      Location                            (none)   \n",
       "1         \"off\"  < 20 km (12.5 mi) (water impact)   \n",
       "2        \"near\"  20 km (12.5 mi) to 50 km (31 mi)   \n",
       "3     \"area of\"                   > 50 km (31 mi)   \n",
       "4         Phase                               STD   \n",
       "5           TXI                              Taxi   \n",
       "6           TOF                          Take off   \n",
       "7           ICL                     Initial climb   \n",
       "8           ENR                          En route   \n",
       "9           MNV                       Maneuvering   \n",
       "10          APR                          Approach   \n",
       "11          LDG                           Landing   \n",
       "12          UNK                           Unknown   \n",
       "13      Airport                               ***   \n",
       "\n",
       "                                                Total  \n",
       "0                                   < 20 km (12.5 mi)  \n",
       "1                                                None  \n",
       "2                                                None  \n",
       "3                                                None  \n",
       "4                                            Standing  \n",
       "5                                                None  \n",
       "6                                                None  \n",
       "7                                                None  \n",
       "8                                                None  \n",
       "9                                                None  \n",
       "10                                               None  \n",
       "11                                               None  \n",
       "12                                               None  \n",
       "13  Active or decommissioned military bases; close...  "
      ]
     },
     "execution_count": 42,
     "metadata": {},
     "output_type": "execute_result"
    }
   ],
   "source": [
    "key_location"
   ]
  },
  {
   "cell_type": "markdown",
   "metadata": {},
   "source": [
    "Let's rearrange rows with index 0, 4 and 13 and drop column 'total"
   ]
  },
  {
   "cell_type": "code",
   "execution_count": 13,
   "metadata": {},
   "outputs": [
    {
     "data": {
      "text/html": [
       "<div>\n",
       "<style scoped>\n",
       "    .dataframe tbody tr th:only-of-type {\n",
       "        vertical-align: middle;\n",
       "    }\n",
       "\n",
       "    .dataframe tbody tr th {\n",
       "        vertical-align: top;\n",
       "    }\n",
       "\n",
       "    .dataframe thead th {\n",
       "        text-align: right;\n",
       "    }\n",
       "</style>\n",
       "<table border=\"1\" class=\"dataframe\">\n",
       "  <thead>\n",
       "    <tr style=\"text-align: right;\">\n",
       "      <th></th>\n",
       "      <th>Abbreviation</th>\n",
       "      <th>Definition</th>\n",
       "      <th>Total</th>\n",
       "    </tr>\n",
       "  </thead>\n",
       "  <tbody>\n",
       "    <tr>\n",
       "      <th>0</th>\n",
       "      <td>(none)</td>\n",
       "      <td>&lt; 20 km (12.5 mi)</td>\n",
       "      <td>None</td>\n",
       "    </tr>\n",
       "    <tr>\n",
       "      <th>1</th>\n",
       "      <td>\"off\"</td>\n",
       "      <td>&lt; 20 km (12.5 mi) (water impact)</td>\n",
       "      <td>None</td>\n",
       "    </tr>\n",
       "    <tr>\n",
       "      <th>2</th>\n",
       "      <td>\"near\"</td>\n",
       "      <td>20 km (12.5 mi) to 50 km (31 mi)</td>\n",
       "      <td>None</td>\n",
       "    </tr>\n",
       "    <tr>\n",
       "      <th>3</th>\n",
       "      <td>\"area of\"</td>\n",
       "      <td>&gt; 50 km (31 mi)</td>\n",
       "      <td>None</td>\n",
       "    </tr>\n",
       "    <tr>\n",
       "      <th>4</th>\n",
       "      <td>STD</td>\n",
       "      <td>Standing</td>\n",
       "      <td>None</td>\n",
       "    </tr>\n",
       "  </tbody>\n",
       "</table>\n",
       "</div>"
      ],
      "text/plain": [
       "  Abbreviation                        Definition Total\n",
       "0       (none)                 < 20 km (12.5 mi)  None\n",
       "1        \"off\"  < 20 km (12.5 mi) (water impact)  None\n",
       "2       \"near\"  20 km (12.5 mi) to 50 km (31 mi)  None\n",
       "3    \"area of\"                   > 50 km (31 mi)  None\n",
       "4          STD                          Standing  None"
      ]
     },
     "execution_count": 13,
     "metadata": {},
     "output_type": "execute_result"
    }
   ],
   "source": [
    "# Drop indexes\n",
    "for i in (0, 4, 13):\n",
    "    key_location.iloc[i,:] = [key_location.loc[i,'Definition'], key_location.loc[i,'Total'], 'None'] \n",
    "\n",
    "key_location.head()"
   ]
  },
  {
   "cell_type": "markdown",
   "metadata": {},
   "source": [
    "Column 'Total'is useless. Let's remove it"
   ]
  },
  {
   "cell_type": "code",
   "execution_count": 11,
   "metadata": {},
   "outputs": [],
   "source": [
    "key_location = key_location.drop(['Total'],axis=1)"
   ]
  },
  {
   "cell_type": "markdown",
   "metadata": {},
   "source": [
    "Let's now deal with the main table: List of aircraft accidents and incidents resulting in 50 or more fatalities.  \n",
    "We will make it in two steps.  \n",
    "First, let's extract the table \"df1\" of the list of accidents.  \n",
    "Second, we extract the table \"death\" of the total number of death on each accident.  \n",
    "Then we join the two tables to build our main dataframe"
   ]
  },
  {
   "cell_type": "code",
   "execution_count": 14,
   "metadata": {},
   "outputs": [
    {
     "data": {
      "text/plain": [
       "(548, 8)"
      ]
     },
     "execution_count": 14,
     "metadata": {},
     "output_type": "execute_result"
    }
   ],
   "source": [
    "#let's extract the table \"df1\" of the list of accidents. We call the function parse with argument 2 \n",
    "df1 = pd.DataFrame(parse(2), columns = ['Type','Incident','Aircraft','Location','Phase','Airport','Distance','Date']) \n",
    "df1.shape"
   ]
  },
  {
   "cell_type": "code",
   "execution_count": null,
   "metadata": {},
   "outputs": [],
   "source": [
    "df1.head(20)"
   ]
  },
  {
   "cell_type": "code",
   "execution_count": 15,
   "metadata": {},
   "outputs": [
    {
     "data": {
      "text/plain": [
       "(548, 5)"
      ]
     },
     "execution_count": 15,
     "metadata": {},
     "output_type": "execute_result"
    }
   ],
   "source": [
    "# Let's extract the table \"death\" of the total number of death on each accident.\n",
    "# We proceed a little bit differently as this table is not shaped the same way as the others.\n",
    "\n",
    "data = []\n",
    "for row in tables[2].find_all(\"tr\"): # still on tables[2]\n",
    "    if row and row.find_all('td'):\n",
    "        data_row = []\n",
    "        cells = row.find_all('th') # Here's the difference with the others\n",
    "        for cell in cells:\n",
    "            if cell:\n",
    "                data_row.append(cell.get_text().rstrip())            \n",
    "        data.append(data_row)\n",
    "        \n",
    "death = pd.DataFrame(data, columns = ['Total','Crew','Passenger','Ground','Notes']) \n",
    "death.shape"
   ]
  },
  {
   "cell_type": "code",
   "execution_count": null,
   "metadata": {},
   "outputs": [],
   "source": [
    "death.head()"
   ]
  },
  {
   "cell_type": "markdown",
   "metadata": {},
   "source": [
    "We can now built our main dataframe \"df\" by concatenating the two above."
   ]
  },
  {
   "cell_type": "code",
   "execution_count": 17,
   "metadata": {},
   "outputs": [
    {
     "data": {
      "text/html": [
       "<div>\n",
       "<style scoped>\n",
       "    .dataframe tbody tr th:only-of-type {\n",
       "        vertical-align: middle;\n",
       "    }\n",
       "\n",
       "    .dataframe tbody tr th {\n",
       "        vertical-align: top;\n",
       "    }\n",
       "\n",
       "    .dataframe thead th {\n",
       "        text-align: right;\n",
       "    }\n",
       "</style>\n",
       "<table border=\"1\" class=\"dataframe\">\n",
       "  <thead>\n",
       "    <tr style=\"text-align: right;\">\n",
       "      <th></th>\n",
       "      <th>Type</th>\n",
       "      <th>Incident</th>\n",
       "      <th>Aircraft</th>\n",
       "      <th>Location</th>\n",
       "      <th>Phase</th>\n",
       "      <th>Airport</th>\n",
       "      <th>Distance</th>\n",
       "      <th>Date</th>\n",
       "      <th>Total</th>\n",
       "      <th>Crew</th>\n",
       "      <th>Passenger</th>\n",
       "      <th>Ground</th>\n",
       "      <th>Notes</th>\n",
       "    </tr>\n",
       "  </thead>\n",
       "  <tbody>\n",
       "    <tr>\n",
       "      <th>0</th>\n",
       "      <td>INH</td>\n",
       "      <td>American Airlines Flight 11</td>\n",
       "      <td>Boeing 767-223ER</td>\n",
       "      <td>usnewyneNew York City, New York, U.S.</td>\n",
       "      <td>ENR[11]</td>\n",
       "      <td></td>\n",
       "      <td></td>\n",
       "      <td>2001-09-11</td>\n",
       "      <td>est. 1,700</td>\n",
       "      <td>11</td>\n",
       "      <td>81</td>\n",
       "      <td>est. 1,600[nb 2]</td>\n",
       "      <td>†</td>\n",
       "    </tr>\n",
       "    <tr>\n",
       "      <th>1</th>\n",
       "      <td>INH</td>\n",
       "      <td>United Airlines Flight 175</td>\n",
       "      <td>Boeing 767-222</td>\n",
       "      <td>usnewyneNew York City, New York, U.S.</td>\n",
       "      <td>ENR[12]</td>\n",
       "      <td></td>\n",
       "      <td></td>\n",
       "      <td>2001-09-11</td>\n",
       "      <td>est. 1,000</td>\n",
       "      <td>9</td>\n",
       "      <td>56</td>\n",
       "      <td>est. 900[nb 2]</td>\n",
       "      <td>†</td>\n",
       "    </tr>\n",
       "    <tr>\n",
       "      <th>2</th>\n",
       "      <td>COM</td>\n",
       "      <td>Pan Am Flight 1736 andKLM Flight 4805</td>\n",
       "      <td>Boeing 747-121 and Boeing 747-206B</td>\n",
       "      <td>spctTenerife, Spain</td>\n",
       "      <td>TXI/TOF[10][16][17]</td>\n",
       "      <td>TFN</td>\n",
       "      <td></td>\n",
       "      <td>1977-03-27</td>\n",
       "      <td>583</td>\n",
       "      <td>23</td>\n",
       "      <td>560</td>\n",
       "      <td>0</td>\n",
       "      <td></td>\n",
       "    </tr>\n",
       "    <tr>\n",
       "      <th>3</th>\n",
       "      <td>COM</td>\n",
       "      <td>Japan Airlines Flight 123</td>\n",
       "      <td>Boeing 747SR-46</td>\n",
       "      <td>juUeno, Japan</td>\n",
       "      <td>ENR[18][19]</td>\n",
       "      <td></td>\n",
       "      <td></td>\n",
       "      <td>1985-08-12</td>\n",
       "      <td>520</td>\n",
       "      <td>15</td>\n",
       "      <td>505</td>\n",
       "      <td>0</td>\n",
       "      <td></td>\n",
       "    </tr>\n",
       "    <tr>\n",
       "      <th>4</th>\n",
       "      <td>COM</td>\n",
       "      <td>Saudi Arabian Flight 763 andKazakhstan Airline...</td>\n",
       "      <td>Boeing 747-168B and Ilyushin Il-76TD</td>\n",
       "      <td>indicCharkhi Dadri, India</td>\n",
       "      <td>ENR[20][21]</td>\n",
       "      <td></td>\n",
       "      <td></td>\n",
       "      <td>1996-11-12</td>\n",
       "      <td>349</td>\n",
       "      <td>33</td>\n",
       "      <td>316</td>\n",
       "      <td>0</td>\n",
       "      <td>†</td>\n",
       "    </tr>\n",
       "  </tbody>\n",
       "</table>\n",
       "</div>"
      ],
      "text/plain": [
       "  Type                                           Incident  \\\n",
       "0  INH                        American Airlines Flight 11   \n",
       "1  INH                         United Airlines Flight 175   \n",
       "2  COM              Pan Am Flight 1736 andKLM Flight 4805   \n",
       "3  COM                          Japan Airlines Flight 123   \n",
       "4  COM  Saudi Arabian Flight 763 andKazakhstan Airline...   \n",
       "\n",
       "                               Aircraft  \\\n",
       "0                      Boeing 767-223ER   \n",
       "1                        Boeing 767-222   \n",
       "2    Boeing 747-121 and Boeing 747-206B   \n",
       "3                       Boeing 747SR-46   \n",
       "4  Boeing 747-168B and Ilyushin Il-76TD   \n",
       "\n",
       "                                Location                Phase Airport  \\\n",
       "0  usnewyneNew York City, New York, U.S.              ENR[11]           \n",
       "1  usnewyneNew York City, New York, U.S.              ENR[12]           \n",
       "2                    spctTenerife, Spain  TXI/TOF[10][16][17]     TFN   \n",
       "3                          juUeno, Japan          ENR[18][19]           \n",
       "4              indicCharkhi Dadri, India          ENR[20][21]           \n",
       "\n",
       "  Distance        Date       Total Crew Passenger            Ground Notes  \n",
       "0           2001-09-11  est. 1,700   11        81  est. 1,600[nb 2]     †  \n",
       "1           2001-09-11  est. 1,000    9        56    est. 900[nb 2]     †  \n",
       "2           1977-03-27         583   23       560                 0        \n",
       "3           1985-08-12         520   15       505                 0        \n",
       "4           1996-11-12         349   33       316                 0     †  "
      ]
     },
     "execution_count": 17,
     "metadata": {},
     "output_type": "execute_result"
    }
   ],
   "source": [
    "df = pd.concat([df1, death], axis=1)\n",
    "df.head()"
   ]
  },
  {
   "cell_type": "markdown",
   "metadata": {},
   "source": [
    "Let's its shape:"
   ]
  },
  {
   "cell_type": "code",
   "execution_count": 136,
   "metadata": {},
   "outputs": [
    {
     "data": {
      "text/plain": [
       "(548, 15)"
      ]
     },
     "execution_count": 136,
     "metadata": {},
     "output_type": "execute_result"
    }
   ],
   "source": [
    "df.shape"
   ]
  },
  {
   "cell_type": "markdown",
   "metadata": {},
   "source": [
    "Let's find out whether there are duplicate entries or not."
   ]
  },
  {
   "cell_type": "code",
   "execution_count": 18,
   "metadata": {},
   "outputs": [
    {
     "data": {
      "text/html": [
       "<div>\n",
       "<style scoped>\n",
       "    .dataframe tbody tr th:only-of-type {\n",
       "        vertical-align: middle;\n",
       "    }\n",
       "\n",
       "    .dataframe tbody tr th {\n",
       "        vertical-align: top;\n",
       "    }\n",
       "\n",
       "    .dataframe thead th {\n",
       "        text-align: right;\n",
       "    }\n",
       "</style>\n",
       "<table border=\"1\" class=\"dataframe\">\n",
       "  <thead>\n",
       "    <tr style=\"text-align: right;\">\n",
       "      <th></th>\n",
       "      <th>Type</th>\n",
       "      <th>Incident</th>\n",
       "      <th>Aircraft</th>\n",
       "      <th>Location</th>\n",
       "      <th>Phase</th>\n",
       "      <th>Airport</th>\n",
       "      <th>Distance</th>\n",
       "      <th>Date</th>\n",
       "      <th>Total</th>\n",
       "      <th>Crew</th>\n",
       "      <th>Passenger</th>\n",
       "      <th>Ground</th>\n",
       "      <th>Notes</th>\n",
       "    </tr>\n",
       "  </thead>\n",
       "  <tbody>\n",
       "  </tbody>\n",
       "</table>\n",
       "</div>"
      ],
      "text/plain": [
       "Empty DataFrame\n",
       "Columns: [Type, Incident, Aircraft, Location, Phase, Airport, Distance, Date, Total, Crew, Passenger, Ground, Notes]\n",
       "Index: []"
      ]
     },
     "execution_count": 18,
     "metadata": {},
     "output_type": "execute_result"
    }
   ],
   "source": [
    "df[df.duplicated()]"
   ]
  },
  {
   "cell_type": "markdown",
   "metadata": {},
   "source": [
    "The results show that each row is unique, which is good."
   ]
  },
  {
   "cell_type": "markdown",
   "metadata": {},
   "source": [
    "#### 2.2. **Let's search for the location coordinates**"
   ]
  },
  {
   "cell_type": "code",
   "execution_count": 19,
   "metadata": {},
   "outputs": [
    {
     "data": {
      "text/plain": [
       "0    usnewyneNew York City, New York, U.S.\n",
       "1    usnewyneNew York City, New York, U.S.\n",
       "2                      spctTenerife, Spain\n",
       "3                            juUeno, Japan\n",
       "4                indicCharkhi Dadri, India\n",
       "Name: Location, dtype: object"
      ]
     },
     "execution_count": 19,
     "metadata": {},
     "output_type": "execute_result"
    }
   ],
   "source": [
    "df.Location.head()"
   ]
  },
  {
   "cell_type": "markdown",
   "metadata": {},
   "source": [
    "We see that there are some useless letters in lower cases at the beginning of the locations, \n",
    "we need to delete them"
   ]
  },
  {
   "cell_type": "code",
   "execution_count": 15,
   "metadata": {},
   "outputs": [],
   "source": [
    "# We delete the first non capital letters  \n",
    "v = df.Location\n",
    "for i in range (len(df)) :\n",
    "    s = df.Location[i]\n",
    "    r=len(s)\n",
    "    j=0\n",
    "    while s[j].islower():\n",
    "        v[i] = s[j+1:r]\n",
    "        j=j+1\n",
    "\n",
    "# Set the Locations        \n",
    "df.Location = v"
   ]
  },
  {
   "cell_type": "markdown",
   "metadata": {},
   "source": [
    "* #### Get the Coordinates"
   ]
  },
  {
   "cell_type": "markdown",
   "metadata": {},
   "source": [
    "Let's add the columns 'Latitude' and 'Longitude' to the dataframe"
   ]
  },
  {
   "cell_type": "code",
   "execution_count": 16,
   "metadata": {},
   "outputs": [],
   "source": [
    "# define new empty columns\n",
    "df['Latitude'] = np.nan\n",
    "df['Longitude'] = np.nan"
   ]
  },
  {
   "cell_type": "markdown",
   "metadata": {},
   "source": [
    "* #### We use geopy library to get the latitude and longitude values of Locations."
   ]
  },
  {
   "cell_type": "markdown",
   "metadata": {},
   "source": [
    "In order to define an instance of the geocoder, we need to define a user_agent. We will name our agent <em>ny_explorer</em>, as shown below."
   ]
  },
  {
   "cell_type": "code",
   "execution_count": 17,
   "metadata": {},
   "outputs": [],
   "source": [
    "# Create a function getlocation to retrieve the geographic coordinates\n",
    "def getlocation(my_data): # my_data is a dataframe\n",
    "    # Initialization\n",
    "    latitude = my_data.Latitude\n",
    "    longitude = my_data.Longitude\n",
    "    # Assign the coordinates\n",
    "    for i in my_data.index : # formerly for i in range (len(my_data))\n",
    "        address = my_data.Location[i]\n",
    "        # Use the Geocode\n",
    "        try:\n",
    "            geolocator = Nominatim(user_agent=\"ny_explorer\")\n",
    "            loc = geolocator.geocode(address)\n",
    "            latitude[i] = loc.latitude\n",
    "            longitude[i] = loc.longitude\n",
    "        except:\n",
    "            print('Error on Location ',i)\n",
    "    \n",
    "    print('Coordinates Found: ',len(my_data[my_data['Latitude'].notnull()].index))\n",
    "    print('Still missing: ',len(my_data[my_data['Latitude'].isnull()].index))"
   ]
  },
  {
   "cell_type": "markdown",
   "metadata": {},
   "source": [
    "We call the function getlocation on our dataframe df"
   ]
  },
  {
   "cell_type": "code",
   "execution_count": null,
   "metadata": {},
   "outputs": [],
   "source": [
    "getlocation(df)"
   ]
  },
  {
   "cell_type": "markdown",
   "metadata": {},
   "source": [
    "We have found 358 locations out of 548. There are 190 missing."
   ]
  },
  {
   "cell_type": "markdown",
   "metadata": {},
   "source": [
    "* ### Let's deal with missing values"
   ]
  },
  {
   "cell_type": "markdown",
   "metadata": {},
   "source": [
    "Let's split our dataframe into two:  \n",
    "One (df_miss0) with the correct coordinates, the other df_miss1 made of the missing values.\n",
    "At the end we will just need to merge the dataframes to rebuilt the whole one."
   ]
  },
  {
   "cell_type": "code",
   "execution_count": 19,
   "metadata": {},
   "outputs": [],
   "source": [
    "df_miss0 = df[df['Latitude'].notnull()]\n",
    "df_miss1 = df[df['Latitude'].isnull()]"
   ]
  },
  {
   "cell_type": "markdown",
   "metadata": {},
   "source": [
    "Let's refine the names of locations in order to get the geocoder have their geographic coordinates"
   ]
  },
  {
   "cell_type": "code",
   "execution_count": 20,
   "metadata": {},
   "outputs": [],
   "source": [
    "# We remove the first characters until we reach the character 'char' \n",
    "# as we will probably repeat this operation several times in order to get the various locations  \n",
    "# Let's define a function refine()\n",
    "\n",
    "def refine(database, char):\n",
    "    for i in database.index :\n",
    "        try:\n",
    "            while (database.loc[i,'Location'][0] != char):\n",
    "                r=len(database.loc[i,'Location']) # La longueur de la chaine de caractères 'Location' ligne i, colonne j\n",
    "                database.loc[i,'Location'] = database.loc[i,'Location'][1:r]\n",
    "            if database.loc[i,'Location'][0] == char : # Go to the beginning of the string, no space\n",
    "                r=len(database.loc[i,'Location'])\n",
    "                database.loc[i,'Location'] = database.loc[i,'Location'][1:r]\n",
    "        except:\n",
    "            print('error on index ',i)\n",
    "    \n",
    "    print('Operation complete')"
   ]
  },
  {
   "cell_type": "code",
   "execution_count": null,
   "metadata": {},
   "outputs": [
    {
     "name": "stderr",
     "output_type": "stream",
     "text": [
      "/home/jupyterlab/conda/lib/python3.6/site-packages/pandas/core/indexing.py:543: SettingWithCopyWarning: \n",
      "A value is trying to be set on a copy of a slice from a DataFrame.\n",
      "Try using .loc[row_indexer,col_indexer] = value instead\n",
      "\n",
      "See the caveats in the documentation: http://pandas.pydata.org/pandas-docs/stable/indexing.html#indexing-view-versus-copy\n",
      "  self.obj[item] = s\n"
     ]
    }
   ],
   "source": [
    "#Let's call the function on 'df_miss' and 'coma'\n",
    "refine(df_miss1,\" \")\n",
    "# Nota: this operation takes some time to compete"
   ]
  },
  {
   "cell_type": "markdown",
   "metadata": {},
   "source": [
    "We see from the result that there's a problem on indexes 52 and 361. Let's deal with it right away!"
   ]
  },
  {
   "cell_type": "code",
   "execution_count": null,
   "metadata": {},
   "outputs": [],
   "source": [
    "# df.loc[52,'Location'] = \"Gulf of Guineaoff Côte d'Ivoire\"\n",
    "# df.loc[361,'Location'] = 'Central America[nb 27]'\n",
    "# We set the values manually, knowing that the geocoder works well on those values\n",
    "df_miss1.loc[52,'Location'] = \"Côte dIvoire\"\n",
    "df_miss1.loc[361,'Location'] = 'Central America'"
   ]
  },
  {
   "cell_type": "markdown",
   "metadata": {},
   "source": [
    "Good! We now call the function getlocation on df_miss1 to have the coordinates."
   ]
  },
  {
   "cell_type": "code",
   "execution_count": null,
   "metadata": {},
   "outputs": [],
   "source": [
    "getlocation(df_miss1)"
   ]
  },
  {
   "cell_type": "markdown",
   "metadata": {},
   "source": [
    "We have found 95 coordinates, but there are still 96 missing. We split the dataframe again"
   ]
  },
  {
   "cell_type": "code",
   "execution_count": null,
   "metadata": {},
   "outputs": [],
   "source": [
    "df_miss1_0 = df_miss1[df_miss1['Latitude'].notnull()] # with coordinates\n",
    "df_miss2 = df_miss1[df_miss1['Latitude'].isnull()] # with no coordinates"
   ]
  },
  {
   "cell_type": "markdown",
   "metadata": {},
   "source": [
    "Let's repeat the previous process again:  "
   ]
  },
  {
   "cell_type": "code",
   "execution_count": null,
   "metadata": {},
   "outputs": [],
   "source": [
    "# Call the function refine\n",
    "refine(df_miss2,\" \")"
   ]
  },
  {
   "cell_type": "code",
   "execution_count": null,
   "metadata": {},
   "outputs": [],
   "source": [
    "# call the function getlocation\n",
    "getlocation(df_miss2)"
   ]
  },
  {
   "cell_type": "markdown",
   "metadata": {},
   "source": [
    "No new coordinates found. Let's call refine and getlocation again! (Never give up!!!)"
   ]
  },
  {
   "cell_type": "code",
   "execution_count": null,
   "metadata": {},
   "outputs": [],
   "source": [
    "# Call the function refine\n",
    "refine(df_miss2,\" \")"
   ]
  },
  {
   "cell_type": "code",
   "execution_count": null,
   "metadata": {},
   "outputs": [],
   "source": [
    "# call the function getlocation\n",
    "getlocation(df_miss2)"
   ]
  },
  {
   "cell_type": "markdown",
   "metadata": {},
   "source": [
    "25 Coordinates found and 71 still missing. Let's split the dataframe and repeat the process"
   ]
  },
  {
   "cell_type": "code",
   "execution_count": null,
   "metadata": {},
   "outputs": [],
   "source": [
    "df_miss2_0 = df_miss2[df_miss2['Latitude'].notnull()] # with coordinates\n",
    "df_miss3 = df_miss2[df_miss2['Latitude'].isnull()] # with no coordinates"
   ]
  },
  {
   "cell_type": "code",
   "execution_count": null,
   "metadata": {},
   "outputs": [],
   "source": [
    "# Refine Location names\n",
    "refine(df_miss3,\" \")"
   ]
  },
  {
   "cell_type": "code",
   "execution_count": null,
   "metadata": {},
   "outputs": [],
   "source": [
    "# Get the Coordinates\n",
    "getlocation(df_miss3)"
   ]
  },
  {
   "cell_type": "markdown",
   "metadata": {},
   "source": [
    "42 Coordinates found and 29 still missing. Let's split the data one last time"
   ]
  },
  {
   "cell_type": "code",
   "execution_count": null,
   "metadata": {},
   "outputs": [],
   "source": [
    "df_miss3_0 = df_miss3[df_miss3['Latitude'].notnull()] # with coordinates\n",
    "df_miss4 = df_miss3[df_miss3['Latitude'].isnull()] # with no coordinates"
   ]
  },
  {
   "cell_type": "markdown",
   "metadata": {},
   "source": []
  },
  {
   "cell_type": "code",
   "execution_count": null,
   "metadata": {},
   "outputs": [],
   "source": [
    "df_miss4.Location.head()"
   ]
  },
  {
   "cell_type": "markdown",
   "metadata": {},
   "source": [
    "And we run the process one last time..."
   ]
  },
  {
   "cell_type": "code",
   "execution_count": null,
   "metadata": {},
   "outputs": [],
   "source": [
    "# refine Location names\n",
    "refine(df_miss4,\" \")"
   ]
  },
  {
   "cell_type": "code",
   "execution_count": null,
   "metadata": {},
   "outputs": [],
   "source": [
    "# get the coordinates\n",
    "getlocation(df_miss4)"
   ]
  },
  {
   "cell_type": "markdown",
   "metadata": {},
   "source": [
    "7 Coordinates found and 22 still missing. Almost all the locations we can not retrieve the coordinates are from Russia (USSR).   \n",
    "We can deal with those 22 manually."
   ]
  },
  {
   "cell_type": "markdown",
   "metadata": {},
   "source": [
    "We split one last time"
   ]
  },
  {
   "cell_type": "code",
   "execution_count": null,
   "metadata": {},
   "outputs": [],
   "source": [
    "df_miss4_0 = df_miss4[df_miss4['Latitude'].notnull()] # with coordinates\n",
    "df_miss5 = df_miss4[df_miss4['Latitude'].isnull()] # with no coordinates"
   ]
  },
  {
   "cell_type": "code",
   "execution_count": null,
   "metadata": {},
   "outputs": [],
   "source": [
    "df_miss5.Location"
   ]
  },
  {
   "cell_type": "code",
   "execution_count": null,
   "metadata": {},
   "outputs": [],
   "source": [
    "# What are the missing index?\n",
    "miss_index = df_miss4[df_miss4['Latitude'].isnull()].index"
   ]
  },
  {
   "cell_type": "code",
   "execution_count": null,
   "metadata": {},
   "outputs": [],
   "source": [
    "# Let's recall the original names\n",
    "for i in miss_index :\n",
    "    print('Location ', i,' : ', df.loc[i,'Location'])"
   ]
  },
  {
   "cell_type": "markdown",
   "metadata": {},
   "source": [
    "We will set the names of locations manually, as we have tested what works with the geocoder."
   ]
  },
  {
   "cell_type": "code",
   "execution_count": null,
   "metadata": {},
   "outputs": [],
   "source": [
    "df_miss5.loc[13,'Location'] = \"Moneron Island\"\n",
    "df_miss5.loc[57,'Location'] = \"Karimata Strait\"\n",
    "df_miss5.loc[162,'Location'] = \"Verkhnyaya Khava\"\n",
    "df_miss5.loc[170,'Location'] = \"Adler\"\n",
    "df_miss5.loc[197,'Location'] = \"Spassky\"\n",
    "df_miss5.loc[251,'Location'] = \"Yelabuga\"\n",
    "df_miss5.loc[260,'Location'] = \"Voznesenka\"\n",
    "df_miss5.loc[267,'Location'] = \"Parchum\"\n",
    "df_miss5.loc[280,'Location'] = \"Kholodnaia Rechka\"\n",
    "df_miss5.loc[290,'Location'] = \"Vurnarsky\"\n",
    "df_miss5.loc[340,'Location'] = \"Dmitrovsky\"\n",
    "df_miss5.loc[354,'Location'] = \"Kurumoch\"\n",
    "df_miss5.loc[370,'Location'] = \"Urakhcha\"\n",
    "df_miss5.loc[388,'Location'] = \"Anapa\"\n",
    "df_miss5.loc[395,'Location'] = \"Maksut\"\n",
    "df_miss5.loc[403,'Location'] = \"Kokoshkino\"\n",
    "df_miss5.loc[418,'Location'] = \"Port Moresby\"\n",
    "df_miss5.loc[434,'Location'] = \"Chebotovka\"\n",
    "df_miss5.loc[455,'Location'] = \"Atamanovka\"\n",
    "df_miss5.loc[477,'Location'] = \"Kopsa\"\n",
    "df_miss5.loc[517,'Location'] = \"Untsukulsky\"\n",
    "df_miss5.loc[520,'Location'] = \"Karacharovo\""
   ]
  },
  {
   "cell_type": "markdown",
   "metadata": {},
   "source": [
    "Now we retrieve the locations using our function getlocation"
   ]
  },
  {
   "cell_type": "code",
   "execution_count": null,
   "metadata": {},
   "outputs": [],
   "source": [
    "# get the coordinates\n",
    "getlocation(df_miss5)"
   ]
  },
  {
   "cell_type": "markdown",
   "metadata": {},
   "source": [
    "#### **2.3. Putting it all together**"
   ]
  },
  {
   "cell_type": "markdown",
   "metadata": {},
   "source": [
    "Great! We now have all our location geographic coordinates.\n",
    "It's time to merge all our dataframes: df_miss0, df_miss1_0, df_miss2_0, df_miss3_0, df_miss4_0 and df_miss5.  \n",
    "We will merge one after another."
   ]
  },
  {
   "cell_type": "code",
   "execution_count": 130,
   "metadata": {},
   "outputs": [],
   "source": [
    "df1 = df_miss0.merge(df_miss1_0, how = 'outer')"
   ]
  },
  {
   "cell_type": "code",
   "execution_count": 135,
   "metadata": {},
   "outputs": [
    {
     "data": {
      "text/plain": [
       "(452, 15)"
      ]
     },
     "execution_count": 135,
     "metadata": {},
     "output_type": "execute_result"
    }
   ],
   "source": [
    "df1.shape"
   ]
  },
  {
   "cell_type": "code",
   "execution_count": 137,
   "metadata": {},
   "outputs": [
    {
     "data": {
      "text/plain": [
       "(477, 15)"
      ]
     },
     "execution_count": 137,
     "metadata": {},
     "output_type": "execute_result"
    }
   ],
   "source": [
    "df2 = df1.merge(df_miss2_0, how = 'outer')\n",
    "df2.shape"
   ]
  },
  {
   "cell_type": "code",
   "execution_count": 138,
   "metadata": {},
   "outputs": [
    {
     "data": {
      "text/plain": [
       "(519, 15)"
      ]
     },
     "execution_count": 138,
     "metadata": {},
     "output_type": "execute_result"
    }
   ],
   "source": [
    "df3 = df2.merge(df_miss3_0, how = 'outer')\n",
    "df3.shape"
   ]
  },
  {
   "cell_type": "code",
   "execution_count": 139,
   "metadata": {},
   "outputs": [
    {
     "data": {
      "text/plain": [
       "(526, 15)"
      ]
     },
     "execution_count": 139,
     "metadata": {},
     "output_type": "execute_result"
    }
   ],
   "source": [
    "df4 = df3.merge(df_miss4_0, how = 'outer')\n",
    "df4.shape"
   ]
  },
  {
   "cell_type": "code",
   "execution_count": 140,
   "metadata": {},
   "outputs": [
    {
     "data": {
      "text/plain": [
       "(548, 15)"
      ]
     },
     "execution_count": 140,
     "metadata": {},
     "output_type": "execute_result"
    }
   ],
   "source": [
    "df5 = df4.merge(df_miss5, how = 'outer')\n",
    "df5.shape"
   ]
  },
  {
   "cell_type": "markdown",
   "metadata": {},
   "source": [
    "df5 is our DATAFRAME with all coordinates!!!  \n",
    "It's been a long way to this. so let's save this dataframe to a csv file: \"Air_Accident.csv\"."
   ]
  },
  {
   "cell_type": "code",
   "execution_count": 143,
   "metadata": {},
   "outputs": [],
   "source": [
    "df5.to_csv('Air_Accident.csv', index = None, header=True)"
   ]
  },
  {
   "cell_type": "markdown",
   "metadata": {},
   "source": [
    "Great!!!"
   ]
  },
  {
   "cell_type": "markdown",
   "metadata": {},
   "source": [
    "Let's also save only the coordinates in a csv_file"
   ]
  },
  {
   "cell_type": "code",
   "execution_count": 147,
   "metadata": {},
   "outputs": [],
   "source": [
    "coord = df5[['Location','Latitude','Longitude']]"
   ]
  },
  {
   "cell_type": "code",
   "execution_count": 149,
   "metadata": {},
   "outputs": [],
   "source": [
    "coord.to_csv('Air_Accident_coord.csv', index = None, header=True)"
   ]
  }
 ],
 "metadata": {
  "kernelspec": {
   "display_name": "Python 3",
   "language": "python",
   "name": "python3"
  },
  "language_info": {
   "codemirror_mode": {
    "name": "ipython",
    "version": 3
   },
   "file_extension": ".py",
   "mimetype": "text/x-python",
   "name": "python",
   "nbconvert_exporter": "python",
   "pygments_lexer": "ipython3",
   "version": "3.6.8"
  }
 },
 "nbformat": 4,
 "nbformat_minor": 2
}
